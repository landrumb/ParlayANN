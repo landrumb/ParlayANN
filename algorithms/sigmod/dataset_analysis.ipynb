{
 "cells": [
  {
   "cell_type": "code",
   "execution_count": 1,
   "metadata": {},
   "outputs": [],
   "source": [
    "import numpy as np\n",
    "import matplotlib.pyplot as plt"
   ]
  },
  {
   "cell_type": "code",
   "execution_count": 5,
   "metadata": {},
   "outputs": [],
   "source": [
    "data_file = \"data/contest-data-release-1m.bin\"\n",
    "query_file = \"data/contest-queries-release-1m.bin\""
   ]
  },
  {
   "cell_type": "code",
   "execution_count": 3,
   "metadata": {},
   "outputs": [
    {
     "name": "stdout",
     "output_type": "stream",
     "text": [
      "data read\n"
     ]
    }
   ],
   "source": [
    "# read data\n",
    "with open(data_file, \"rb\") as f:\n",
    "    n_points = np.fromfile(f, dtype=np.int32, count=1)[0]\n",
    "    \n",
    "    labels = np.zeros(n_points, dtype=np.int32)\n",
    "    timestamps = np.zeros(n_points, dtype=np.float32)\n",
    "    vectors = np.zeros((n_points, 100), dtype=np.float32)\n",
    "    \n",
    "    for i in range(n_points):\n",
    "        labels[i] = round(np.fromfile(f, dtype=np.float32, count=1)[0])\n",
    "        timestamps[i] = np.fromfile(f, dtype=np.float32, count=1)[0]\n",
    "        vectors[i] = np.fromfile(f, dtype=np.float32, count=100)\n",
    "        \n",
    "print(\"data read\")\n",
    "        \n"
   ]
  },
  {
   "cell_type": "code",
   "execution_count": 6,
   "metadata": {},
   "outputs": [],
   "source": [
    "with open(query_file, \"rb\") as f:\n",
    "    n_queries = np.fromfile(f, dtype=np.int32, count=1)[0]\n",
    "    \n",
    "    query_types = np.zeros(n_queries, dtype=np.int32)\n",
    "    query_category = np.zeros(n_queries, dtype=np.int32)\n",
    "    query_timestamp_starts = np.zeros(n_queries, dtype=np.float32)\n",
    "    query_timestamp_ends = np.zeros(n_queries, dtype=np.float32)\n",
    "    query_vectors = np.zeros((n_queries, 100), dtype=np.float32)\n",
    "    \n",
    "    for i in range(n_queries):\n",
    "        query_types[i] = np.fromfile(f, dtype=np.int32, count=1)[0]\n",
    "        query_category[i] = np.fromfile(f, dtype=np.int32, count=1)[0]\n",
    "        query_timestamp_starts[i] = np.fromfile(f, dtype=np.float32, count=1)[0]\n",
    "        query_timestamp_ends[i] = np.fromfile(f, dtype=np.float32, count=1)[0]\n",
    "        query_vectors[i] = np.fromfile(f, dtype=np.float32, count=100)\n",
    "        \n"
   ]
  },
  {
   "cell_type": "code",
   "execution_count": null,
   "metadata": {},
   "outputs": [],
   "source": []
  }
 ],
 "metadata": {
  "kernelspec": {
   "display_name": "bigann",
   "language": "python",
   "name": "python3"
  },
  "language_info": {
   "codemirror_mode": {
    "name": "ipython",
    "version": 3
   },
   "file_extension": ".py",
   "mimetype": "text/x-python",
   "name": "python",
   "nbconvert_exporter": "python",
   "pygments_lexer": "ipython3",
   "version": "3.10.12"
  }
 },
 "nbformat": 4,
 "nbformat_minor": 2
}
